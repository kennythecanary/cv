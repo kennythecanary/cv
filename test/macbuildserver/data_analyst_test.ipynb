{
 "cells": [
  {
   "cell_type": "markdown",
   "id": "3c55c661",
   "metadata": {},
   "source": [
    "# Тестовое задание MacBuildServer\n",
    "\n",
    "Вывести отчёт по заявкам за произвольный период в днях (от 1 дня и более)\n",
    "\n",
    "Данные нужно забрать с помощью Google Sheets API из документа https://docs.google.com/spreadsheets/d/1Ycg7zTxds9DZnDvTrFcyNNKuTUxg6Yy6WF0a8Wc02WQ\n",
    "\n",
    "Формат отчёта:\n",
    "\n",
    "- Dimensions\n",
    "    * канал привлечения заявки (d_utm_source)\n",
    "    * клуб (d_club)\n",
    "    * менеджер (d_manager)\n",
    "- Metrics\n",
    "    * количество заявок\n",
    "    * количество мусорных заявок (на основании заявки не создан клиент)\n",
    "    * количество новых заявок (не было заявок и покупок от этого клиента раньше)\n",
    "    * количество покупателей (кто купил в течение недели после заявки)\n",
    "    * количество новых покупателей (кто купил в течение недели после заявки и не покупал раньше)\n",
    "    * доход от покупок новых покупателей\n",
    "\n",
    "Итоговый отчёт нужно вывести в свой документ Google Sheets:\n",
    "* Для обработки данных написать код на Python\n",
    "* Данные выгружать из Google Sheets и загружать в свой документ через Google Sheets API\n",
    "* Для итогового отчёта использовать pivot table Google Sheets\n",
    "* (Бонусное задание, необязательно) вывести итоговый отчёт в виде pivot table DataStudio"
   ]
  },
  {
   "cell_type": "code",
   "execution_count": 1,
   "id": "296a5c64",
   "metadata": {},
   "outputs": [],
   "source": [
    "import gspread\n",
    "from oauth2client.service_account import ServiceAccountCredentials\n",
    "from gspread_dataframe import set_with_dataframe\n",
    "import pandas as pd\n",
    "import numpy as np\n",
    "import sqlite3"
   ]
  },
  {
   "cell_type": "code",
   "execution_count": 2,
   "id": "63ad10f8",
   "metadata": {},
   "outputs": [
    {
     "name": "stdout",
     "output_type": "stream",
     "text": [
      "3.7.0\n",
      "1.2.3\n",
      "1.20.1\n",
      "3.35.5\n"
     ]
    }
   ],
   "source": [
    "print(gspread.__version__)\n",
    "print(pd.__version__)\n",
    "print(np.__version__)\n",
    "print(sqlite3.sqlite_version)"
   ]
  },
  {
   "cell_type": "markdown",
   "id": "546e9654",
   "metadata": {},
   "source": [
    "### Загрузка данных"
   ]
  },
  {
   "cell_type": "code",
   "execution_count": 3,
   "id": "08d21f00",
   "metadata": {},
   "outputs": [],
   "source": [
    "scope = ['https://spreadsheets.google.com/feeds',\n",
    "         'https://www.googleapis.com/auth/drive']\n",
    "\n",
    "credentials = ServiceAccountCredentials.from_json_keyfile_name('named-storm-315718-9f45fd3ec26b.json', scope) \n",
    "\n",
    "gc = gspread.authorize(credentials)\n",
    "sh = gc.open_by_key('1Ycg7zTxds9DZnDvTrFcyNNKuTUxg6Yy6WF0a8Wc02WQ')"
   ]
  },
  {
   "cell_type": "code",
   "execution_count": 4,
   "id": "e10d04f0",
   "metadata": {},
   "outputs": [
    {
     "name": "stdout",
     "output_type": "stream",
     "text": [
      "  Данные находятся в соседних вкладках                       \n",
      "0                                                            \n",
      "1        Легенда по названиям колонок:                       \n",
      "2                        m_real_amount          сумма покупки\n",
      "3                               client           клиент в CRM\n",
      "4                                 lead  входящая заявка в CRM\n"
     ]
    }
   ],
   "source": [
    "worksheet = sh.get_worksheet(0)\n",
    "\n",
    "data = worksheet.get_all_values()\n",
    "headers = data.pop(0)\n",
    "\n",
    "df = pd.DataFrame(data, columns=headers)\n",
    "print(df.head())"
   ]
  },
  {
   "cell_type": "code",
   "execution_count": 5,
   "id": "5ff9cc34",
   "metadata": {},
   "outputs": [
    {
     "name": "stdout",
     "output_type": "stream",
     "text": [
      "Index(['transaction_id', 'created_at', 'm_real_amount', 'l_client_id'], dtype='object')\n",
      "Index(['client_id', 'created_at', 'l_manager_id'], dtype='object')\n",
      "Index(['manager_id', 'd_manager', 'd_club'], dtype='object')\n",
      "Index(['lead_id', 'created_at', 'd_utm_medium', 'd_utm_source', 'l_manager_id',\n",
      "       'l_client_id'],\n",
      "      dtype='object')\n"
     ]
    }
   ],
   "source": [
    "worksheet = sh.get_worksheet(1)\n",
    "data = worksheet.get_all_values()\n",
    "headers = data.pop(0)\n",
    "transactions = pd.DataFrame(data, columns=headers)\n",
    "print(transactions.columns)\n",
    "\n",
    "worksheet = sh.get_worksheet(2)\n",
    "data = worksheet.get_all_values()\n",
    "headers = data.pop(0)\n",
    "clients = pd.DataFrame(data, columns=headers)\n",
    "print(clients.columns)\n",
    "\n",
    "worksheet = sh.get_worksheet(3)\n",
    "data = worksheet.get_all_values()\n",
    "headers = data.pop(0)\n",
    "managers = pd.DataFrame(data, columns=headers)\n",
    "print(managers.columns)\n",
    "\n",
    "worksheet = sh.get_worksheet(4)\n",
    "data = worksheet.get_all_values()\n",
    "headers = data.pop(0)\n",
    "leads = pd.DataFrame(data, columns=headers).replace({'d_utm_source': {'': 'unknown_source'}})\n",
    "print(leads.columns)"
   ]
  },
  {
   "cell_type": "code",
   "execution_count": 6,
   "id": "baf57735",
   "metadata": {},
   "outputs": [],
   "source": [
    "report_period = 10\n",
    "\n",
    "start_point = (pd.to_datetime(max(leads.created_at)) +\\\n",
    "               pd.DateOffset(-report_period)).strftime('%Y-%m-%d %H:%M:%S')"
   ]
  },
  {
   "cell_type": "markdown",
   "id": "9672c80e",
   "metadata": {},
   "source": [
    "В таблице managers не хватает записей"
   ]
  },
  {
   "cell_type": "code",
   "execution_count": 7,
   "id": "668fd9aa",
   "metadata": {},
   "outputs": [
    {
     "data": {
      "text/plain": [
       "False"
      ]
     },
     "execution_count": 7,
     "metadata": {},
     "output_type": "execute_result"
    }
   ],
   "source": [
    "managers.manager_id.unique().size >= leads.l_manager_id.unique().size"
   ]
  },
  {
   "cell_type": "code",
   "execution_count": 8,
   "id": "1f3156f5",
   "metadata": {},
   "outputs": [],
   "source": [
    "unknown_manager_id = leads.l_manager_id.unique()[~np.isin(leads.l_manager_id.unique(), managers.manager_id)]\n",
    "\n",
    "managers_expanded = managers.append(\n",
    "    pd.DataFrame(unknown_manager_id, columns=['manager_id'])\\\n",
    "    .assign(d_manager=unknown_manager_id, d_club=[np.nan for _ in unknown_manager_id])).fillna('unknown club')"
   ]
  },
  {
   "cell_type": "code",
   "execution_count": 9,
   "id": "036d24d9",
   "metadata": {},
   "outputs": [
    {
     "data": {
      "text/plain": [
       "True"
      ]
     },
     "execution_count": 9,
     "metadata": {},
     "output_type": "execute_result"
    }
   ],
   "source": [
    "managers_expanded.manager_id.unique().size >= leads.l_manager_id.unique().size"
   ]
  },
  {
   "cell_type": "markdown",
   "id": "277058c1",
   "metadata": {},
   "source": [
    "### Количество заявок"
   ]
  },
  {
   "cell_type": "code",
   "execution_count": 10,
   "id": "c8483714",
   "metadata": {},
   "outputs": [
    {
     "data": {
      "text/plain": [
       "620"
      ]
     },
     "execution_count": 10,
     "metadata": {},
     "output_type": "execute_result"
    }
   ],
   "source": [
    "leads_summary = pd.pivot_table(\n",
    "    leads.merge(managers_expanded, left_on='l_manager_id', right_on='manager_id', how='inner')\n",
    "    .query('created_at >= @start_point'), \n",
    "    values='lead_id', index=['d_manager', 'd_club'], columns=['d_utm_source'], aggfunc='count', fill_value=0)\n",
    "\n",
    "leads_summary.sum().sum()"
   ]
  },
  {
   "cell_type": "markdown",
   "id": "2264757e",
   "metadata": {},
   "source": [
    "### Количество мусорных заявок (на основании заявки не создан клиент)"
   ]
  },
  {
   "cell_type": "code",
   "execution_count": 11,
   "id": "99f79a0d",
   "metadata": {},
   "outputs": [
    {
     "data": {
      "text/plain": [
       "154"
      ]
     },
     "execution_count": 11,
     "metadata": {},
     "output_type": "execute_result"
    }
   ],
   "source": [
    "trash_leads = pd.pivot_table(\n",
    "    leads.merge(clients, left_on='l_client_id', right_on='client_id', how='left')\\\n",
    "    .query('client_id.isnull() & created_at_x >= @start_point')\\\n",
    "    .merge(managers_expanded, left_on='l_manager_id_x', right_on='manager_id', how='inner'),\n",
    "    values='lead_id', index=['d_manager', 'd_club'], columns=['d_utm_source'], aggfunc='count', fill_value=0)\n",
    "\n",
    "trash_leads.sum().sum()"
   ]
  },
  {
   "cell_type": "markdown",
   "id": "12ff1468",
   "metadata": {},
   "source": [
    "### Количество новых заявок (не было заявок и покупок от этого клиента раньше)"
   ]
  },
  {
   "cell_type": "code",
   "execution_count": 12,
   "id": "421cf591",
   "metadata": {},
   "outputs": [],
   "source": [
    "cnx = sqlite3.connect(':memory:')\n",
    "transactions.to_sql(name='transactions_db', con=cnx)\n",
    "leads.to_sql(name='leads_db', con=cnx)"
   ]
  },
  {
   "cell_type": "code",
   "execution_count": 13,
   "id": "ca49763c",
   "metadata": {},
   "outputs": [],
   "source": [
    "query = '''\n",
    "WITH \n",
    "union_tab (operation_id, operation_type, created_at, l_client_id) \n",
    "AS (\n",
    "    SELECT transaction_id, \"transaction\", created_at, l_client_id\n",
    "    FROM transactions_db\n",
    "    UNION ALL\n",
    "    SELECT lead_id, \"lead\", created_at, l_client_id\n",
    "    FROM leads_db\n",
    "    )\n",
    "SELECT l_client_id\n",
    "FROM \n",
    "    (\n",
    "    SELECT *, ROW_NUMBER() OVER(PARTITION BY l_client_id ORDER BY created_at) rank\n",
    "    FROM union_tab\n",
    "    ) AS t\n",
    "WHERE operation_type = \"lead\" AND rank = 1\n",
    "\n",
    "'''"
   ]
  },
  {
   "cell_type": "markdown",
   "id": "b52b2488",
   "metadata": {},
   "source": [
    "Список клиентов, у которых покупки начанаются не раньше первой заявки"
   ]
  },
  {
   "cell_type": "code",
   "execution_count": 14,
   "id": "16844d94",
   "metadata": {},
   "outputs": [
    {
     "data": {
      "text/plain": [
       "1790"
      ]
     },
     "execution_count": 14,
     "metadata": {},
     "output_type": "execute_result"
    }
   ],
   "source": [
    "client_id = pd.read_sql(query, cnx).l_client_id\n",
    "client_id.size"
   ]
  },
  {
   "cell_type": "markdown",
   "id": "93d905c3",
   "metadata": {},
   "source": [
    "Список клиентов, у которых не было раньше заявок и покупок "
   ]
  },
  {
   "cell_type": "code",
   "execution_count": 15,
   "id": "1703e1a0",
   "metadata": {},
   "outputs": [
    {
     "data": {
      "text/plain": [
       "1568"
      ]
     },
     "execution_count": 15,
     "metadata": {},
     "output_type": "execute_result"
    }
   ],
   "source": [
    "new_client_id = leads.query('l_client_id in @client_id')\\\n",
    ".groupby('l_client_id').count().query('lead_id == 1').index\n",
    "\n",
    "new_client_id.size"
   ]
  },
  {
   "cell_type": "code",
   "execution_count": 16,
   "id": "d51b0144",
   "metadata": {},
   "outputs": [
    {
     "data": {
      "text/plain": [
       "282"
      ]
     },
     "execution_count": 16,
     "metadata": {},
     "output_type": "execute_result"
    }
   ],
   "source": [
    "new_leads = pd.pivot_table(\n",
    "    leads.merge(managers_expanded, left_on='l_manager_id', right_on='manager_id', how='inner')\\\n",
    "    .query('l_client_id in @new_client_id & created_at >= @start_point'),\n",
    "    values='lead_id', index=['d_manager', 'd_club'], columns=['d_utm_source'], aggfunc='count', fill_value=0)\\\n",
    "\n",
    "new_leads.sum().sum()"
   ]
  },
  {
   "cell_type": "markdown",
   "id": "b3dcb265",
   "metadata": {},
   "source": [
    "### Количество покупателей (кто купил в течение недели после заявки)"
   ]
  },
  {
   "cell_type": "code",
   "execution_count": 17,
   "id": "4a93b522",
   "metadata": {},
   "outputs": [],
   "source": [
    "query = '''\n",
    "WITH \n",
    "union_tab (operation_id, operation_type, created_at, l_client_id) \n",
    "AS (\n",
    "    SELECT transaction_id, \"transaction\", created_at, l_client_id\n",
    "    FROM transactions_db\n",
    "    UNION ALL\n",
    "    SELECT lead_id, \"lead\", created_at, l_client_id\n",
    "    FROM leads_db\n",
    "    ),\n",
    "delay_tab (operation_id, operation_type, created_at, l_client_id, operation_lag, delay)\n",
    "AS (\n",
    "    SELECT *, \n",
    "        LAG(operation_type) OVER(PARTITION BY l_client_id ORDER BY created_at),\n",
    "        JULIANDAY(created_at) - \n",
    "        JULIANDAY(LAG(created_at) OVER(PARTITION BY l_client_id ORDER BY created_at)) \n",
    "    FROM union_tab\n",
    "    )\n",
    "SELECT DISTINCT l_client_id\n",
    "FROM delay_tab \n",
    "WHERE operation_type = \"transaction\" AND operation_lag = \"lead\" AND delay <= 7\n",
    "\n",
    "'''"
   ]
  },
  {
   "cell_type": "code",
   "execution_count": 18,
   "id": "79c33008",
   "metadata": {},
   "outputs": [
    {
     "data": {
      "text/plain": [
       "400"
      ]
     },
     "execution_count": 18,
     "metadata": {},
     "output_type": "execute_result"
    }
   ],
   "source": [
    "customer_id = pd.read_sql(query, cnx).l_client_id\n",
    "customer_id.size"
   ]
  },
  {
   "cell_type": "code",
   "execution_count": 19,
   "id": "e203dd14",
   "metadata": {},
   "outputs": [
    {
     "data": {
      "text/plain": [
       "82"
      ]
     },
     "execution_count": 19,
     "metadata": {},
     "output_type": "execute_result"
    }
   ],
   "source": [
    "customers = pd.pivot_table(\n",
    "    leads.merge(managers_expanded, left_on='l_manager_id', right_on='manager_id', how='inner')\\\n",
    "    .query('l_client_id in @customer_id & created_at >= @start_point'),\n",
    "    values='l_client_id', index=['d_manager', 'd_club'], columns=['d_utm_source'], aggfunc='count', fill_value=0)\n",
    "\n",
    "customers.sum().sum()"
   ]
  },
  {
   "cell_type": "markdown",
   "id": "6bb1e422",
   "metadata": {},
   "source": [
    "### Количество новых покупателей (кто купил в течение недели после заявки и не покупал раньше)"
   ]
  },
  {
   "cell_type": "code",
   "execution_count": 20,
   "id": "9723d5a6",
   "metadata": {},
   "outputs": [
    {
     "data": {
      "text/plain": [
       "266"
      ]
     },
     "execution_count": 20,
     "metadata": {},
     "output_type": "execute_result"
    }
   ],
   "source": [
    "new_customer_id = customer_id[customer_id.isin(new_client_id)]\n",
    "new_customer_id.size"
   ]
  },
  {
   "cell_type": "code",
   "execution_count": 21,
   "id": "7c364ccc",
   "metadata": {},
   "outputs": [
    {
     "data": {
      "text/plain": [
       "42"
      ]
     },
     "execution_count": 21,
     "metadata": {},
     "output_type": "execute_result"
    }
   ],
   "source": [
    "new_customers = pd.pivot_table(\n",
    "    leads.merge(managers_expanded, left_on='l_manager_id', right_on='manager_id', how='inner')\\\n",
    "    .query('l_client_id in @new_customer_id & created_at >= @start_point'),\n",
    "    values='l_client_id', index=['d_manager', 'd_club'], columns=['d_utm_source'], aggfunc='count', fill_value=0)\n",
    "\n",
    "new_customers.sum().sum()"
   ]
  },
  {
   "cell_type": "markdown",
   "id": "f3ca0d8e",
   "metadata": {},
   "source": [
    "### Доход от покупок новых покупателей"
   ]
  },
  {
   "cell_type": "code",
   "execution_count": 22,
   "id": "2bd23b4e",
   "metadata": {
    "scrolled": false
   },
   "outputs": [
    {
     "data": {
      "text/plain": [
       "1262771"
      ]
     },
     "execution_count": 22,
     "metadata": {},
     "output_type": "execute_result"
    }
   ],
   "source": [
    "fresh_income = pd.pivot_table(\n",
    "    leads.merge(managers_expanded, left_on='l_manager_id', right_on='manager_id', how='inner')\\\n",
    "    .merge(transactions, on='l_client_id', how='inner')\\\n",
    "    .query('l_client_id in @new_customer_id & created_at_x >= @start_point')\\\n",
    "    .assign(m_real_amount = lambda x: x.m_real_amount.astype(int)),\n",
    "    values='m_real_amount', index=['d_manager', 'd_club'], columns=['d_utm_source'], aggfunc=np.sum, fill_value=0)\n",
    "\n",
    "fresh_income.sum().sum()"
   ]
  },
  {
   "cell_type": "markdown",
   "id": "66415d7e",
   "metadata": {},
   "source": [
    "### Сводная таблица"
   ]
  },
  {
   "cell_type": "code",
   "execution_count": 23,
   "id": "234af9ca",
   "metadata": {},
   "outputs": [],
   "source": [
    "summary = pd.melt(leads_summary.reset_index(), id_vars=['d_manager', 'd_club'], value_vars=leads_summary.columns,\n",
    "                  value_name='leads')\\\n",
    ".merge(pd.melt(trash_leads.reset_index(), id_vars=['d_manager', 'd_club'], value_vars=trash_leads.columns, \n",
    "               value_name='trash_leads'),\n",
    "       on=['d_manager', 'd_club', 'd_utm_source'], how='left')\\\n",
    ".merge(pd.melt(new_leads.reset_index(), id_vars=['d_manager', 'd_club'], value_vars=trash_leads.columns, \n",
    "               value_name='new_leads'),\n",
    "       on=['d_manager', 'd_club', 'd_utm_source'], how='left')\\\n",
    ".merge(pd.melt(customers.reset_index(), id_vars=['d_manager', 'd_club'], value_vars=customers.columns, \n",
    "               value_name='customers'),\n",
    "       on=['d_manager', 'd_club', 'd_utm_source'], how='left')\\\n",
    ".merge(pd.melt(new_customers.reset_index(), id_vars=['d_manager', 'd_club'], value_vars=new_customers.columns, \n",
    "               value_name='new_customers'),\n",
    "       on=['d_manager', 'd_club', 'd_utm_source'], how='left')\\\n",
    ".merge(pd.melt(fresh_income.reset_index(), id_vars=['d_manager', 'd_club'], value_vars=fresh_income.columns, \n",
    "               value_name='fresh_income'),\n",
    "       on=['d_manager', 'd_club', 'd_utm_source'], how='left')\\\n",
    ".fillna(0).set_index(['d_manager', 'd_club', 'd_utm_source']).astype('int')"
   ]
  },
  {
   "cell_type": "markdown",
   "id": "d3c61801",
   "metadata": {},
   "source": [
    "### Выгрузка данных"
   ]
  },
  {
   "cell_type": "code",
   "execution_count": 24,
   "id": "fc88cc2e",
   "metadata": {},
   "outputs": [],
   "source": [
    "sh = gc.open_by_key('11g_0iRx1qWnPwJ_uBJtrsSETTsVA31G9yPnnfJnfOF0')\n",
    "\n",
    "set_with_dataframe(sh.get_worksheet(0), leads_summary, include_index=True)\n",
    "set_with_dataframe(sh.get_worksheet(1), trash_leads, include_index=True)\n",
    "set_with_dataframe(sh.get_worksheet(2), new_leads, include_index=True)\n",
    "set_with_dataframe(sh.get_worksheet(3), customers, include_index=True)\n",
    "set_with_dataframe(sh.get_worksheet(4), new_customers, include_index=True)\n",
    "set_with_dataframe(sh.get_worksheet(5), fresh_income, include_index=True)\n",
    "set_with_dataframe(sh.get_worksheet(6), summary, include_index=True)"
   ]
  },
  {
   "cell_type": "markdown",
   "id": "11cd2a48",
   "metadata": {},
   "source": [
    "### Бонусное задание"
   ]
  },
  {
   "cell_type": "markdown",
   "id": "516a4603",
   "metadata": {},
   "source": [
    "https://datastudio.google.com/reporting/29742ffb-f66a-4a32-8bb1-8801dfbaeedd"
   ]
  }
 ],
 "metadata": {
  "kernelspec": {
   "display_name": "Python 3",
   "language": "python",
   "name": "python3"
  },
  "language_info": {
   "codemirror_mode": {
    "name": "ipython",
    "version": 3
   },
   "file_extension": ".py",
   "mimetype": "text/x-python",
   "name": "python",
   "nbconvert_exporter": "python",
   "pygments_lexer": "ipython3",
   "version": "3.9.5"
  }
 },
 "nbformat": 4,
 "nbformat_minor": 5
}
