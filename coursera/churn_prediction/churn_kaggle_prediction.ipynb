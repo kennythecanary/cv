{
 "cells": [
  {
   "cell_type": "markdown",
   "metadata": {},
   "source": [
    "# Построение и оптимизация модели"
   ]
  },
  {
   "cell_type": "code",
   "execution_count": 1,
   "metadata": {},
   "outputs": [],
   "source": [
    "import warnings\n",
    "warnings.filterwarnings(\"ignore\")"
   ]
  },
  {
   "cell_type": "code",
   "execution_count": 2,
   "metadata": {},
   "outputs": [],
   "source": [
    "import pandas as pd\n",
    "import numpy as np\n",
    "from datetime import datetime\n",
    "import sklearn\n",
    "from sklearn.impute import SimpleImputer\n",
    "from sklearn.preprocessing import StandardScaler\n",
    "from sklearn.feature_extraction import DictVectorizer\n",
    "from sklearn.base import BaseEstimator, TransformerMixin\n",
    "from sklearn.metrics import matthews_corrcoef\n",
    "from sklearn import feature_selection, model_selection\n",
    "from sklearn.compose import ColumnTransformer\n",
    "from sklearn.model_selection import GridSearchCV, RandomizedSearchCV, cross_val_score\n",
    "from sklearn.feature_selection import SelectFromModel\n",
    "import imblearn\n",
    "from imblearn.pipeline import Pipeline\n",
    "from imblearn import under_sampling\n",
    "from sklearn.utils import class_weight\n",
    "import xgboost as xgb\n",
    "from sklearn.svm import LinearSVC\n",
    "import pickle"
   ]
  },
  {
   "cell_type": "code",
   "execution_count": 3,
   "metadata": {},
   "outputs": [],
   "source": [
    "import matplotlib\n",
    "from matplotlib import pyplot as plt"
   ]
  },
  {
   "cell_type": "code",
   "execution_count": 4,
   "metadata": {},
   "outputs": [
    {
     "name": "stdout",
     "output_type": "stream",
     "text": [
      "1.2.3\n",
      "1.20.1\n",
      "0.24.2\n",
      "0.7.0\n",
      "1.3.0\n"
     ]
    }
   ],
   "source": [
    "print(pd.__version__)\n",
    "print(np.__version__)\n",
    "print(sklearn.__version__)\n",
    "print(imblearn.__version__)\n",
    "print(xgb.__version__)"
   ]
  },
  {
   "cell_type": "code",
   "execution_count": 5,
   "metadata": {},
   "outputs": [],
   "source": [
    "def timer(start_time=None):\n",
    "    if not start_time:\n",
    "        start_time = datetime.now()\n",
    "        return start_time\n",
    "    elif start_time:\n",
    "        thour, temp_sec = divmod((datetime.now() - start_time).total_seconds(), 3600)\n",
    "        tmin, tsec = divmod(temp_sec, 60)\n",
    "        print('Time taken: %i hours %i minutes and %s seconds.' % (thour, tmin, round(tsec, 2)))"
   ]
  },
  {
   "cell_type": "code",
   "execution_count": 6,
   "metadata": {},
   "outputs": [],
   "source": [
    "skf = model_selection.StratifiedKFold(n_splits=5, shuffle=True, random_state=1)"
   ]
  },
  {
   "cell_type": "code",
   "execution_count": 7,
   "metadata": {},
   "outputs": [],
   "source": [
    "X = pd.read_csv('orange_small_churn_data.train')\n",
    "y = pd.read_csv('orange_small_churn_labels.train', header=None).replace(-1, 0)"
   ]
  },
  {
   "cell_type": "markdown",
   "metadata": {},
   "source": [
    "### 1. Предобработка данных"
   ]
  },
  {
   "cell_type": "code",
   "execution_count": 8,
   "metadata": {},
   "outputs": [],
   "source": [
    "# Списки числовых и категориальных признаков\n",
    "numeric_vars, categor_vars = X.loc[:,:'Var190'].columns, X.loc[:,'Var191':].columns\n",
    "\n",
    "# Трансформер для числовых признаков\n",
    "numeric_transformer = Pipeline(steps=[\n",
    "    ('imputer', SimpleImputer(strategy='mean')), \n",
    "    ('scaler', StandardScaler())])\n",
    "\n",
    "# Класс для получения словаря\n",
    "class Dictifier(BaseEstimator, TransformerMixin):\n",
    "    \n",
    "    def fit(self, X, y=None):\n",
    "        return self\n",
    "    \n",
    "    def transform(self, X):\n",
    "        return pd.DataFrame(X).to_dict('records')\n",
    "\n",
    "# Класс для отбора категориальных признаков\n",
    "class FeatureSelector(BaseEstimator, TransformerMixin):\n",
    "\n",
    "    def __init__(self):\n",
    "        self.n_features = 2000 # Число признаков для отбора\n",
    "\n",
    "    def fit(self, X, y):\n",
    "        # Корреляция Мэтьюса\n",
    "        self.MCC = np.apply_along_axis(matthews_corrcoef, 0, X, y)\n",
    "        # Индексы в порядке убывания корреляции\n",
    "        self.indices = np.argsort(np.absolute(self.MCC))[::-1] \n",
    "        return self\n",
    "\n",
    "    def transform(self, X):\n",
    "        return X[:,self.indices[:self.n_features]]\n",
    "\n",
    "# Трансформер для категориальных признаков\n",
    "categor_transformer = Pipeline(steps=[\n",
    "    ('imputer', SimpleImputer(strategy='constant')),\n",
    "    ('dictifier', Dictifier()),\n",
    "    ('vectorizer', DictVectorizer(sparse=False)),\n",
    "    ('selector', FeatureSelector())])\n",
    "\n",
    "# Объединение числовых и категориальных признаков\n",
    "preprocessor = ColumnTransformer(transformers=[\n",
    "    ('numeric_transformer', numeric_transformer, numeric_vars),\n",
    "    ('categor_transformer', categor_transformer, categor_vars)])"
   ]
  },
  {
   "cell_type": "code",
   "execution_count": 9,
   "metadata": {},
   "outputs": [],
   "source": [
    "X_train = preprocessor.fit_transform(X, y)"
   ]
  },
  {
   "cell_type": "code",
   "execution_count": 10,
   "metadata": {},
   "outputs": [],
   "source": [
    "X_train.tofile('churn_data_2000_features.train', sep=',')"
   ]
  },
  {
   "cell_type": "markdown",
   "metadata": {},
   "source": [
    "### 2. Undersampling"
   ]
  },
  {
   "cell_type": "code",
   "execution_count": 11,
   "metadata": {},
   "outputs": [
    {
     "name": "stdout",
     "output_type": "stream",
     "text": [
      "<class 'imblearn.under_sampling._prototype_selection._neighbourhood_cleaning_rule.NeighbourhoodCleaningRule'>\n",
      "ROC-AUC: 0.6841031375474785\n",
      "Time taken: 0 hours 5 minutes and 39.83 seconds.\n",
      "<class 'imblearn.under_sampling._prototype_selection._one_sided_selection.OneSidedSelection'>\n",
      "ROC-AUC: 0.6830967767494718\n",
      "Time taken: 0 hours 10 minutes and 43.92 seconds.\n",
      "<class 'imblearn.under_sampling._prototype_selection._tomek_links.TomekLinks'>\n",
      "ROC-AUC: 0.6835721121219863\n",
      "Time taken: 0 hours 5 minutes and 7.4 seconds.\n",
      "<class 'imblearn.under_sampling._prototype_selection._random_under_sampler.RandomUnderSampler'>\n",
      "ROC-AUC: 0.6760433928058693\n",
      "Time taken: 0 hours 0 minutes and 6.85 seconds.\n"
     ]
    }
   ],
   "source": [
    "lsvc = LinearSVC(C=0.01, penalty=\"l1\", dual=False)\n",
    "\n",
    "undersampling_list = [\n",
    "    under_sampling.OneSidedSelection,\n",
    "    under_sampling.TomekLinks,\n",
    "    under_sampling.NeighbourhoodCleaningRule]\n",
    "\n",
    "for sampler in undersampling_list:\n",
    "    \n",
    "    pipeline = Pipeline(steps=[('sampler', sampler()), ('estimator', lsvc)])\n",
    "    \n",
    "    start_time = timer(None)\n",
    "    print(sampler)\n",
    "    print('ROC-AUC: {}'.format(cross_val_score(\n",
    "        pipeline, X_train, y, scoring='roc_auc', cv=skf, n_jobs=-1).mean()))\n",
    "    timer(start_time)"
   ]
  },
  {
   "cell_type": "markdown",
   "metadata": {},
   "source": [
    "### 3. Отбор признаков"
   ]
  },
  {
   "cell_type": "code",
   "execution_count": 9,
   "metadata": {},
   "outputs": [],
   "source": [
    "X = np.fromfile('churn_data_2000_features.train', sep=',')\n",
    "y = pd.read_csv('orange_small_churn_labels.train', header=None).replace(-1, 0).values\n",
    "\n",
    "X = X.reshape(y.size, X.size//y.size)\n",
    "X_train, y_train = under_sampling.NeighbourhoodCleaningRule().fit_resample(X, y)"
   ]
  },
  {
   "cell_type": "code",
   "execution_count": 12,
   "metadata": {},
   "outputs": [
    {
     "name": "stdout",
     "output_type": "stream",
     "text": [
      "Best params: {'C': 0.11000000000000001, 'class_weight': {1: 6, 0: 1}} ROC-AUC: 0.7270592387358169\n",
      "Features selected: 2593\n",
      "CPU times: user 20.5 s, sys: 1.18 s, total: 21.7 s\n",
      "Wall time: 16min 52s\n"
     ]
    }
   ],
   "source": [
    "%%time\n",
    "param_grid = {'C': np.linspace(0.06, 0.14, 9),\n",
    "              'class_weight': [{1: 7, 0: 1},\n",
    "                               {1: 6.5, 0: 1},\n",
    "                               {1: 6, 0: 1},\n",
    "                               {1: 5.5, 0: 1},\n",
    "                               {1: 5, 0: 1}]}\n",
    "    \n",
    "lsvc = LinearSVC(penalty=\"l1\", dual=False)\n",
    "\n",
    "grid_search = GridSearchCV(lsvc, param_grid, scoring='roc_auc', n_jobs=-1, cv=skf)\n",
    "\n",
    "grid_search.fit(X_train, y_train)\n",
    "print('Best params: {} ROC-AUC: {}'.format(grid_search.best_params_, grid_search.best_score_))\n",
    "\n",
    "selector = SelectFromModel(grid_search.best_estimator_, prefit=True)\n",
    "selector.transform(X_train)\n",
    "\n",
    "important_features = selector.get_support(indices=True)\n",
    "print('Features selected: {}'.format(important_features.size))"
   ]
  },
  {
   "cell_type": "code",
   "execution_count": 12,
   "metadata": {},
   "outputs": [],
   "source": [
    "with open('important_features.txt', 'w') as fout:\n",
    "    fout.write(' '.join(map(str, important_features)))"
   ]
  },
  {
   "cell_type": "code",
   "execution_count": 12,
   "metadata": {},
   "outputs": [],
   "source": [
    "X_train = X_train[:,important_features]"
   ]
  },
  {
   "cell_type": "markdown",
   "metadata": {},
   "source": [
    "### 4. Обучение модели"
   ]
  },
  {
   "cell_type": "code",
   "execution_count": 28,
   "metadata": {},
   "outputs": [
    {
     "name": "stdout",
     "output_type": "stream",
     "text": [
      "CPU times: user 3h 44min 42s, sys: 36.7 s, total: 3h 45min 19s\n",
      "Wall time: 39min 9s\n"
     ]
    }
   ],
   "source": [
    "%%time\n",
    "dtrain = xgb.DMatrix(X_train, y_train)\n",
    "cv = []\n",
    "alpha_list = np.linspace(0.1, 0.18, 9)\n",
    "\n",
    "for alpha in alpha_list:\n",
    "    cv.append(xgb.cv(params={'learning_rate': alpha, \n",
    "                             'objective': 'binary:logistic', \n",
    "                             'eval_metric': 'logloss',\n",
    "                             'booster': 'gbtree'},\n",
    "                     dtrain=dtrain, \n",
    "                     num_boost_round=1000, \n",
    "                     early_stopping_rounds=50, \n",
    "                     nfold=5, \n",
    "                     metrics=['auc'], \n",
    "                     stratified=True, seed=1))"
   ]
  },
  {
   "cell_type": "code",
   "execution_count": 29,
   "metadata": {},
   "outputs": [
    {
     "data": {
      "image/png": "[encoded data removed]",
      "text/plain": [
       "<Figure size 1008x432 with 1 Axes>"
      ]
     },
     "metadata": {
      "needs_background": "light"
     },
     "output_type": "display_data"
    }
   ],
   "source": [
    "fig = plt.figure(figsize=(14,6))\n",
    "\n",
    "for n, res in enumerate(cv):\n",
    "    plt.plot(res[['test-auc-mean']], label=str(alpha_list[n]))\n",
    "    plt.xlabel('boost_round')\n",
    "    plt.ylabel('roc_auc')\n",
    "    plt.legend(title='alpha')"
   ]
  },
  {
   "cell_type": "code",
   "execution_count": 11,
   "metadata": {},
   "outputs": [
    {
     "name": "stdout",
     "output_type": "stream",
     "text": [
      "Best params: {'subsample': 0.8, 'min_child_weight': 1, 'max_depth': 5, 'gamma': 0.5, 'colsample_bytree': 0.4} ROC-AUC: 0.7667039377119638\n",
      "CPU times: user 1min 42s, sys: 698 ms, total: 1min 43s\n",
      "Wall time: 5h 17min 30s\n"
     ]
    }
   ],
   "source": [
    "%%time\n",
    "xgb_clf = xgb.XGBClassifier(learning_rate=0.14, n_estimators=66, objective='binary:logistic', \n",
    "                            eval_metric='logloss', booster='gbtree', nthread=-1)\n",
    "\n",
    "params = {\n",
    "    'min_child_weight': [1, 2, 3, 4],\n",
    "    'gamma': [0.5, 1, 1.5, 2, 2.5],\n",
    "    'subsample': [0.6, 0.8, 1.0, 1.2],\n",
    "    'colsample_bytree': [0.2, 0.4, 0.6, 0.8, 1.0],\n",
    "    'max_depth': [3, 4, 5, 6]}\n",
    "\n",
    "param_comb = 200\n",
    "\n",
    "random_search = RandomizedSearchCV(xgb_clf, param_distributions=params, n_iter=param_comb, scoring='roc_auc', \n",
    "                                   n_jobs=-1, cv=skf, random_state=1)\n",
    "\n",
    "random_search.fit(X_train, y_train)\n",
    "print('Best params: {} ROC-AUC: {}'.format(random_search.best_params_, random_search.best_score_))"
   ]
  },
  {
   "cell_type": "code",
   "execution_count": 12,
   "metadata": {},
   "outputs": [],
   "source": [
    "pickle.dump(random_search.best_estimator_, open('lsvc_xgb_churn_model.pkl', 'wb'))"
   ]
  },
  {
   "cell_type": "markdown",
   "metadata": {},
   "source": [
    "### 5. Submission to Kaggle"
   ]
  },
  {
   "cell_type": "code",
   "execution_count": 9,
   "metadata": {},
   "outputs": [],
   "source": [
    "categor_transformer = pickle.load(open('categor_transformer.pkl', 'rb'))\n",
    "churn_model = pickle.load(open('lsvc_xgb_churn_model.pkl', 'rb'))"
   ]
  },
  {
   "cell_type": "code",
   "execution_count": 10,
   "metadata": {},
   "outputs": [],
   "source": [
    "with open('important_features.txt', 'r') as fin:\n",
    "    important_features = list(map(int, fin.readline().split()))"
   ]
  },
  {
   "cell_type": "code",
   "execution_count": 12,
   "metadata": {},
   "outputs": [],
   "source": [
    "X_test = pd.read_csv('orange_small_churn_test_data.csv')\n",
    "\n",
    "X_test = np.hstack((numeric_transformer.fit_transform(X_test[numeric_vars]), \n",
    "                    categor_transformer.transform(X_test[categor_vars])))\n",
    "\n",
    "X_test = X_test[:,important_features]"
   ]
  },
  {
   "cell_type": "code",
   "execution_count": 14,
   "metadata": {},
   "outputs": [],
   "source": [
    "y_score = churn_model.predict_proba(X_test)[:,1]"
   ]
  },
  {
   "cell_type": "code",
   "execution_count": 15,
   "metadata": {},
   "outputs": [],
   "source": [
    "pd.DataFrame(y_score).reset_index().to_csv('submission.csv', index=False, header=('Id','result'))"
   ]
  },
  {
   "cell_type": "markdown",
   "metadata": {},
   "source": [
    "ROC-AUC: 0.71583"
   ]
  }
 ],
 "metadata": {
  "kernelspec": {
   "display_name": "Python 3 (ipykernel)",
   "language": "python",
   "name": "python3"
  },
  "language_info": {
   "codemirror_mode": {
    "name": "ipython",
    "version": 3
   },
   "file_extension": ".py",
   "mimetype": "text/x-python",
   "name": "python",
   "nbconvert_exporter": "python",
   "pygments_lexer": "ipython3",
   "version": "3.10.2"
  }
 },
 "nbformat": 4,
 "nbformat_minor": 1
}
