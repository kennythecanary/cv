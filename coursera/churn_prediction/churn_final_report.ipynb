{
 "cells": [
  {
   "cell_type": "markdown",
   "metadata": {},
   "source": [
    "# Прогнозирование оттока: отчет о проведенном исследовании"
   ]
  },
  {
   "cell_type": "markdown",
   "metadata": {},
   "source": [
    "## 1\\. Цели и задачи проекта"
   ]
  },
  {
   "cell_type": "markdown",
   "metadata": {},
   "source": [
    "Требуется построить модель для прогнозирования оттока клиентов оператора мобильной связи, позволяющую заблаговременно выявлять сегмент пользователей, склонных к оттоку и принимать меры по их удержанию, а также оценить качество модели и ее экономический потенциал."
   ]
  },
  {
   "cell_type": "markdown",
   "metadata": {},
   "source": [
    "## 2\\. Описательный анализ данных"
   ]
  },
  {
   "cell_type": "markdown",
   "metadata": {},
   "source": [
    "Для построения модели предлагается использовать закрытые данные. Известно, что первые 190 переменных являются числовыми, а оставшиеся 40 - категориальными. Метки классов: 1 - отток, -1 - не отток."
   ]
  },
  {
   "cell_type": "code",
   "execution_count": 1,
   "metadata": {},
   "outputs": [],
   "source": [
    "import warnings\n",
    "warnings.filterwarnings(\"ignore\")"
   ]
  },
  {
   "cell_type": "code",
   "execution_count": 2,
   "metadata": {},
   "outputs": [],
   "source": [
    "import pandas as pd\n",
    "import numpy as np\n",
    "import sklearn\n",
    "from sklearn.impute import SimpleImputer\n",
    "from sklearn.preprocessing import StandardScaler\n",
    "from sklearn.compose import ColumnTransformer\n",
    "from sklearn import model_selection, linear_model, feature_selection, ensemble, metrics\n",
    "from sklearn.utils import class_weight\n",
    "import category_encoders as ce\n",
    "import imblearn\n",
    "from imblearn.pipeline import Pipeline\n",
    "import scipy\n",
    "from scipy.stats import chi2_contingency\n",
    "from scipy import optimize\n",
    "import statsmodels\n",
    "from statsmodels.sandbox.stats.multicomp import multipletests\n",
    "from matplotlib import pyplot as plt\n",
    "%matplotlib inline\n",
    "plt.rcParams['font.size'] = 12\n",
    "import seaborn as sns"
   ]
  },
  {
   "cell_type": "code",
   "execution_count": 3,
   "metadata": {},
   "outputs": [
    {
     "name": "stdout",
     "output_type": "stream",
     "text": [
      "1.2.3\n",
      "0.24.2\n",
      "2.2.2\n",
      "0.7.0\n",
      "1.5.4\n",
      "0.12.1\n"
     ]
    }
   ],
   "source": [
    "print(pd.__version__)\n",
    "print(sklearn.__version__)\n",
    "print(ce.__version__)\n",
    "print(imblearn.__version__)\n",
    "print(scipy.__version__)\n",
    "print(statsmodels.__version__)"
   ]
  },
  {
   "cell_type": "code",
   "execution_count": 4,
   "metadata": {},
   "outputs": [],
   "source": [
    "train_data = pd.read_csv('orange_small_churn_data.train')\n",
    "train_labels = pd.read_csv('orange_small_churn_labels.train', header=None, names=['y_true'])"
   ]
  },
  {
   "cell_type": "code",
   "execution_count": 5,
   "metadata": {},
   "outputs": [
    {
     "name": "stdout",
     "output_type": "stream",
     "text": [
      "Доля классов отток/ не отток: 0.074400/ 0.925600\n"
     ]
    }
   ],
   "source": [
    "print(\"Доля классов отток/ не отток: %f/ %f\" \n",
    "      %(np.sum(train_labels == 1) / train_labels.size, np.sum(train_labels == -1) / train_labels.size))"
   ]
  },
  {
   "cell_type": "markdown",
   "metadata": {},
   "source": [
    "В данных имеются признаки, заполненные NA, а также признаки с нулевой дисперсией:"
   ]
  },
  {
   "cell_type": "code",
   "execution_count": 6,
   "metadata": {},
   "outputs": [
    {
     "name": "stdout",
     "output_type": "stream",
     "text": [
      "Var8, Var15, Var20, Var31, Var32, Var39, Var42, Var48, Var52, Var55, Var79, Var141, Var167, Var169, Var175, Var185, Var209, Var230, Var118\n"
     ]
    }
   ],
   "source": [
    "useless_features = train_data.columns[train_data.isna().all()]\\\n",
    ".append(train_data.std().index[train_data.std() == 0])\n",
    "\n",
    "print(*useless_features, sep=', ')"
   ]
  },
  {
   "cell_type": "markdown",
   "metadata": {},
   "source": [
    "### Корреляции переменных с целевой функцией\n",
    "\n",
    "**1\\. Числовые переменные**\n",
    "\n",
    "Для числовых переменных рассчитаем разность их математических ожиданий в разрезе классов:\n",
    "\n",
    "$\\dfrac{\\mathbb{E}(X|y=1) - \\mathbb{E}(X|y=-1)}{\\text{max}(X)-\\text{min}(X)}$"
   ]
  },
  {
   "cell_type": "code",
   "execution_count": 7,
   "metadata": {},
   "outputs": [],
   "source": [
    "def expect_diff(var, labels=train_labels, scale=True):\n",
    "    '''\n",
    "    Возвращает разницу средних в разрезе классов, нормированную на размах вариации\n",
    "    '''\n",
    "    means = pd.DataFrame(var).assign(labels=labels).groupby(['labels']).mean()\n",
    "    corr = (means.iloc[1] - means.iloc[0]) / (var.max() - var.min())\n",
    "    \n",
    "    return (corr.index[0], corr.values[0]) if scale else diff\n",
    "\n",
    "numeric_corr = [expect_diff(train_data[var]) for var in train_data.iloc[:,:190] if var not in useless_features]\n",
    "\n",
    "numeric_top = pd.DataFrame(numeric_corr, columns=['var_name', 'corr'])\\\n",
    ".set_index('var_name')\\\n",
    ".applymap(abs)\\\n",
    ".sort_values('corr', ascending=False)"
   ]
  },
  {
   "cell_type": "markdown",
   "metadata": {},
   "source": [
    "**Топ 20 числовых переменных по их влиянию на целевую функцию:**"
   ]
  },
  {
   "cell_type": "code",
   "execution_count": 8,
   "metadata": {},
   "outputs": [
    {
     "name": "stdout",
     "output_type": "stream",
     "text": [
      "Var188, Var130, Var189, Var114, Var73, Var111, Var126, Var7, Var177, Var168, Var139, Var53, Var142, Var92, Var144, Var147, Var69, Var136, Var110, Var51\n"
     ]
    }
   ],
   "source": [
    "print(*numeric_top.head(20).index, sep=', ')"
   ]
  },
  {
   "cell_type": "markdown",
   "metadata": {},
   "source": [
    "**Антитоп 20:**"
   ]
  },
  {
   "cell_type": "code",
   "execution_count": 9,
   "metadata": {},
   "outputs": [
    {
     "name": "stdout",
     "output_type": "stream",
     "text": [
      "Var24, Var138, Var96, Var163, Var85, Var4, Var25, Var121, Var146, Var21, Var22, Var181, Var109, Var112, Var105, Var104, Var83, Var129, Var44, Var123\n"
     ]
    }
   ],
   "source": [
    "print(*numeric_top.tail(20).index, sep=', ')"
   ]
  },
  {
   "cell_type": "markdown",
   "metadata": {},
   "source": [
    "**2\\. Категориальные переменные**\n",
    "\n",
    "Для категориальных переменных рассчитаем коэффициенты V Крамера: \n",
    "\n",
    "$\\phi_c(X_1^n,X_2^n) = \\sqrt{\\dfrac{\\chi^2(X_1^n, X_2^n)}{n\\;(\\text{min}(K_1,K_2)-1)}}$\n",
    "\n",
    "Значимость корреляций проверим с помощью статистики хи-квадрат с поправкой Бенджамини-Хохберга."
   ]
  },
  {
   "cell_type": "code",
   "execution_count": 10,
   "metadata": {},
   "outputs": [
    {
     "data": {
      "text/html": [
       "<div>\n",
       "<style scoped>\n",
       "    .dataframe tbody tr th:only-of-type {\n",
       "        vertical-align: middle;\n",
       "    }\n",
       "\n",
       "    .dataframe tbody tr th {\n",
       "        vertical-align: top;\n",
       "    }\n",
       "\n",
       "    .dataframe thead th {\n",
       "        text-align: right;\n",
       "    }\n",
       "</style>\n",
       "<table border=\"1\" class=\"dataframe\">\n",
       "  <thead>\n",
       "    <tr style=\"text-align: right;\">\n",
       "      <th></th>\n",
       "      <th>cramers_V</th>\n",
       "      <th>p_value</th>\n",
       "      <th>p_corrected</th>\n",
       "    </tr>\n",
       "    <tr>\n",
       "      <th>var_name</th>\n",
       "      <th></th>\n",
       "      <th></th>\n",
       "      <th></th>\n",
       "    </tr>\n",
       "  </thead>\n",
       "  <tbody>\n",
       "    <tr>\n",
       "      <th>Var206</th>\n",
       "      <td>0.080985</td>\n",
       "      <td>2.662850e-38</td>\n",
       "      <td>1.331425e-37</td>\n",
       "    </tr>\n",
       "    <tr>\n",
       "      <th>Var205</th>\n",
       "      <td>0.073836</td>\n",
       "      <td>3.007666e-46</td>\n",
       "      <td>3.007666e-45</td>\n",
       "    </tr>\n",
       "    <tr>\n",
       "      <th>Var204</th>\n",
       "      <td>0.069023</td>\n",
       "      <td>9.189547e-08</td>\n",
       "      <td>1.021061e-07</td>\n",
       "    </tr>\n",
       "    <tr>\n",
       "      <th>Var227</th>\n",
       "      <td>0.055619</td>\n",
       "      <td>2.666712e-24</td>\n",
       "      <td>8.889041e-24</td>\n",
       "    </tr>\n",
       "    <tr>\n",
       "      <th>Var221</th>\n",
       "      <td>0.049119</td>\n",
       "      <td>1.342547e-18</td>\n",
       "      <td>2.237578e-18</td>\n",
       "    </tr>\n",
       "    <tr>\n",
       "      <th>Var210</th>\n",
       "      <td>0.048540</td>\n",
       "      <td>8.606806e-19</td>\n",
       "      <td>1.721361e-18</td>\n",
       "    </tr>\n",
       "    <tr>\n",
       "      <th>Var226</th>\n",
       "      <td>0.048516</td>\n",
       "      <td>6.673381e-11</td>\n",
       "      <td>9.533401e-11</td>\n",
       "    </tr>\n",
       "    <tr>\n",
       "      <th>Var218</th>\n",
       "      <td>0.044709</td>\n",
       "      <td>6.745818e-19</td>\n",
       "      <td>1.686455e-18</td>\n",
       "    </tr>\n",
       "    <tr>\n",
       "      <th>Var225</th>\n",
       "      <td>0.032579</td>\n",
       "      <td>4.034848e-05</td>\n",
       "      <td>4.034848e-05</td>\n",
       "    </tr>\n",
       "    <tr>\n",
       "      <th>Var211</th>\n",
       "      <td>0.031932</td>\n",
       "      <td>1.698139e-10</td>\n",
       "      <td>2.122674e-10</td>\n",
       "    </tr>\n",
       "  </tbody>\n",
       "</table>\n",
       "</div>"
      ],
      "text/plain": [
       "          cramers_V       p_value   p_corrected\n",
       "var_name                                       \n",
       "Var206     0.080985  2.662850e-38  1.331425e-37\n",
       "Var205     0.073836  3.007666e-46  3.007666e-45\n",
       "Var204     0.069023  9.189547e-08  1.021061e-07\n",
       "Var227     0.055619  2.666712e-24  8.889041e-24\n",
       "Var221     0.049119  1.342547e-18  2.237578e-18\n",
       "Var210     0.048540  8.606806e-19  1.721361e-18\n",
       "Var226     0.048516  6.673381e-11  9.533401e-11\n",
       "Var218     0.044709  6.745818e-19  1.686455e-18\n",
       "Var225     0.032579  4.034848e-05  4.034848e-05\n",
       "Var211     0.031932  1.698139e-10  2.122674e-10"
      ]
     },
     "execution_count": 10,
     "metadata": {},
     "output_type": "execute_result"
    }
   ],
   "source": [
    "# Список категориальных признаков\n",
    "categor_vars = train_data.loc[:,'Var191':].columns.difference(useless_features)\n",
    "\n",
    "# Таблицы сопряженности\n",
    "crosstabs = [pd.crosstab(train_data[var], train_labels['y_true']) for var in categor_vars]\n",
    "\n",
    "# Проверка условий применимости критерия хи-квадрат\n",
    "chi2_terms = [np.sum(tab < 5).sum() / tab.size < 0.2 if tab.shape[0] > 1 else False\\\n",
    "              for tab in crosstabs]\n",
    "\n",
    "# Статистика хи-квадрат, p-value и переменные, для которых условия выполняются\n",
    "chi2_tests = [chi2_contingency(tab)[:2] + (num,) \\\n",
    "              for num, tab in enumerate(crosstabs) if chi2_terms[num]]\n",
    "\n",
    "def cramersV(chi2, tab):\n",
    "    '''\n",
    "    Вычисляет коэффициент V Крамера\n",
    "    '''    \n",
    "    return np.sqrt(chi2/(tab.sum().sum()*(np.min(tab.shape)-1)))\n",
    "\n",
    "# Значимые коэффициенты V Крамера, p-value и соответствующие имена переменных\n",
    "V_coef = [(cramersV(stat[0], crosstabs[stat[2]]), stat[1], categor_vars[stat[2]])\\\n",
    "          for stat in chi2_tests if stat[1] < 0.05]\n",
    "\n",
    "categor_top = pd.DataFrame(V_coef, columns=['cramers_V', 'p_value', 'var_name'])\\\n",
    ".assign(p_corrected = lambda x: multipletests(x.p_value, alpha = 0.05, method = 'fdr_bh')[1])\\\n",
    ".sort_values(['cramers_V', 'p_value'], ascending=False)\n",
    "\n",
    "categor_top.set_index('var_name')"
   ]
  },
  {
   "cell_type": "markdown",
   "metadata": {},
   "source": [
    "## 3\\. Методика измерения качества и критерий успеха"
   ]
  },
  {
   "cell_type": "markdown",
   "metadata": {},
   "source": [
    "Хочется выявить максимальное число пользователей, склонных к оттоку, т.е. максимизировать Recall, с другой стороны это занижает Precision, т.е. повышаются расходы на удержание неверно классифицированных пользователей. Поэтому при подборе оптимальных параметров классификатора будем использовать их гармоническое среднее, т.е. F1-score. Качество работы алгоритма будем оценивать по ROC-AUC. \n",
    "\n",
    "Для участия в кампании по удержанию оттока будем привлекать топ пользователей, отсортированных по вероятности принадлежности к классу отток. Для определения оптимального размера топа будем оптимизировать экономическую модель, оценивающую эффект от удержания оттока.\n",
    "\n",
    "Критерием успешности будем считать такую модель, предсказания которой дают положительный экономический эффект, при этом средняя стоимость удержания одного пользователя не превышает 20\\% от среднего дохода с одного пользователя. "
   ]
  },
  {
   "cell_type": "markdown",
   "metadata": {},
   "source": [
    "## 4\\. Техническое описание решения"
   ]
  },
  {
   "cell_type": "markdown",
   "metadata": {},
   "source": [
    "Для обработки данных используем следующий Pipeline:<br />\n",
    "1\\. Удаляем признаки, заполненные NA, а также признаки с нулевой дисперсией. Удаляем числовые и категориальные признаки, имеющие низкую корреляцию с целевой переменной.<br />\n",
    "2\\. Пропуски в числовых признаках заполняем средними, после чего масштабируем с помощью StandardScaler и отправляем в трансформер для объединения с категориальными признаками.<br />\n",
    "3\\. Пропуски в категориальных признаках заполняем нулями, после чего кодируем HelmertEncoder и отправляем в трансформер для объединения с числовыми признаками.<br />\n",
    "4\\. Обучаем регрессионную модель с L1-регуляризатором для отбора признаков.<br />\n",
    "5\\. Отбираем важные признаки.<br />\n",
    "6\\. Обучаем классификатор градиентного бустинга с весами  отток/не отток = 3/1. "
   ]
  },
  {
   "cell_type": "code",
   "execution_count": 11,
   "metadata": {},
   "outputs": [],
   "source": [
    "# Бесполезные признаки, заполненные NA, а также признаки с нулевой дисперсией\n",
    "train_data.drop(useless_features, axis=1, inplace=True)\n",
    "\n",
    "# Антитоп 20 числовых признаков, имеющих низкую корреляцию с целевой переменной  \n",
    "train_data.drop(numeric_top.tail(20).index, axis=1, inplace=True)\n",
    "\n",
    "# Категориальные признаки, не коррелирующие с целевой переменной\n",
    "train_data.drop(categor_vars.difference(categor_top.var_name).difference(useless_features), axis=1, inplace=True)\n",
    "\n",
    "X_train, X_test, y_train, y_test = \\\n",
    "model_selection.train_test_split(train_data, train_labels, test_size=0.2, random_state=1)\n",
    "\n",
    "# Списки числовых и категориальных призаков\n",
    "numeric_vars = X_train.loc[:,:'Var190'].columns\n",
    "categor_vars = categor_top.var_name\n",
    "\n",
    "# Трансформер для числовых переменных (обработка пропусков, масштабирование)\n",
    "numeric_transformer = Pipeline(steps=[\n",
    "    ('imputer', SimpleImputer(strategy='mean')), \n",
    "    ('scaler', StandardScaler())])\n",
    "\n",
    "# Трансформер для категориальных переменных (обработка пропусков, кодирование)\n",
    "categor_transformer = Pipeline(steps=[\n",
    "    ('imputer', SimpleImputer(strategy='constant')),\n",
    "    ('encoder', ce.helmert.HelmertEncoder())])\n",
    "\n",
    "# Сборка в один трансформер\n",
    "preprocessor = ColumnTransformer(transformers=[\n",
    "    ('numeric_transformer', numeric_transformer, numeric_vars),\n",
    "    ('categor_transformer', categor_transformer, categor_vars)])\n",
    "\n",
    "# Классификатор для отбора признаков\n",
    "lasso = linear_model.Lasso(alpha=0.005, random_state=1)\n",
    "\n",
    "# Отбор признаков\n",
    "feature_selector = feature_selection.SelectFromModel(lasso)\n",
    "\n",
    "# Классификатор для прогнозирования оттока\n",
    "gb_clf = ensemble.GradientBoostingClassifier(random_state=1)\n",
    "\n",
    "# Параметры для оптимизации\n",
    "param_grid = {'n_estimators': [100, 200, 300, 400, 500], 'learning_rate': [0.001, 0.01, 0.05, 0.1], \n",
    "              'max_depth': [2, 3, 4, 5]}\n",
    "\n",
    "# Подбор оптимальных параметров\n",
    "clf_cv = model_selection.RandomizedSearchCV(\n",
    "    gb_clf, param_distributions=param_grid, cv=3, scoring='recall', random_state=1, n_iter=30, n_jobs=-1)\n",
    "\n",
    "# Трансформер признаков, подбор оптимальных параметров\n",
    "pipeline = Pipeline(steps=[\n",
    "    ('preprocessor', preprocessor),\n",
    "    ('feature_selector', feature_selector),\n",
    "    ('estimator', clf_cv)])\n",
    "\n",
    "# Расчет весов\n",
    "sample_weight = class_weight.compute_sample_weight(class_weight={1: 3, -1: 1}, y=y_train)\n",
    "\n",
    "# Параметры для классификатора\n",
    "kwargs = {pipeline.steps[-1][0] + '__sample_weight': sample_weight}"
   ]
  },
  {
   "cell_type": "markdown",
   "metadata": {},
   "source": [
    "Оптимальные параметры классификатора:"
   ]
  },
  {
   "cell_type": "code",
   "execution_count": 13,
   "metadata": {},
   "outputs": [
    {
     "data": {
      "text/plain": [
       "{'n_estimators': 500, 'max_depth': 3, 'learning_rate': 0.1}"
      ]
     },
     "execution_count": 13,
     "metadata": {},
     "output_type": "execute_result"
    }
   ],
   "source": [
    "pipeline.fit(X_train, y_train, **kwargs)\n",
    "pipeline.steps[-1][1].best_params_"
   ]
  },
  {
   "cell_type": "markdown",
   "metadata": {},
   "source": [
    "## 5\\. Качество модели и ожидаемый экономический эффект от удержания оттока"
   ]
  },
  {
   "cell_type": "markdown",
   "metadata": {},
   "source": [
    "Оценка качества на тестовой выборке:"
   ]
  },
  {
   "cell_type": "code",
   "execution_count": 14,
   "metadata": {},
   "outputs": [
    {
     "name": "stdout",
     "output_type": "stream",
     "text": [
      "ROC-AUC: 0.7283742172822072\n"
     ]
    }
   ],
   "source": [
    "print('ROC-AUC:', metrics.roc_auc_score(y_test, pipeline.predict_proba(X_test)[:,1]))"
   ]
  },
  {
   "cell_type": "markdown",
   "metadata": {},
   "source": [
    "Результаты классификации:"
   ]
  },
  {
   "cell_type": "code",
   "execution_count": 15,
   "metadata": {},
   "outputs": [
    {
     "data": {
      "text/html": [
       "<div>\n",
       "<style scoped>\n",
       "    .dataframe tbody tr th:only-of-type {\n",
       "        vertical-align: middle;\n",
       "    }\n",
       "\n",
       "    .dataframe tbody tr th {\n",
       "        vertical-align: top;\n",
       "    }\n",
       "\n",
       "    .dataframe thead th {\n",
       "        text-align: right;\n",
       "    }\n",
       "</style>\n",
       "<table border=\"1\" class=\"dataframe\">\n",
       "  <thead>\n",
       "    <tr style=\"text-align: right;\">\n",
       "      <th></th>\n",
       "      <th>y_true</th>\n",
       "      <th>proba</th>\n",
       "    </tr>\n",
       "  </thead>\n",
       "  <tbody>\n",
       "    <tr>\n",
       "      <th>3841</th>\n",
       "      <td>-1</td>\n",
       "      <td>0.020181</td>\n",
       "    </tr>\n",
       "    <tr>\n",
       "      <th>12898</th>\n",
       "      <td>-1</td>\n",
       "      <td>0.015288</td>\n",
       "    </tr>\n",
       "    <tr>\n",
       "      <th>15032</th>\n",
       "      <td>-1</td>\n",
       "      <td>0.066556</td>\n",
       "    </tr>\n",
       "    <tr>\n",
       "      <th>36781</th>\n",
       "      <td>-1</td>\n",
       "      <td>0.059729</td>\n",
       "    </tr>\n",
       "    <tr>\n",
       "      <th>9201</th>\n",
       "      <td>-1</td>\n",
       "      <td>0.238265</td>\n",
       "    </tr>\n",
       "    <tr>\n",
       "      <th>...</th>\n",
       "      <td>...</td>\n",
       "      <td>...</td>\n",
       "    </tr>\n",
       "    <tr>\n",
       "      <th>30258</th>\n",
       "      <td>-1</td>\n",
       "      <td>0.420816</td>\n",
       "    </tr>\n",
       "    <tr>\n",
       "      <th>20563</th>\n",
       "      <td>-1</td>\n",
       "      <td>0.213795</td>\n",
       "    </tr>\n",
       "    <tr>\n",
       "      <th>20275</th>\n",
       "      <td>-1</td>\n",
       "      <td>0.022015</td>\n",
       "    </tr>\n",
       "    <tr>\n",
       "      <th>10121</th>\n",
       "      <td>-1</td>\n",
       "      <td>0.373025</td>\n",
       "    </tr>\n",
       "    <tr>\n",
       "      <th>32191</th>\n",
       "      <td>-1</td>\n",
       "      <td>0.087773</td>\n",
       "    </tr>\n",
       "  </tbody>\n",
       "</table>\n",
       "<p>8000 rows × 2 columns</p>\n",
       "</div>"
      ],
      "text/plain": [
       "       y_true     proba\n",
       "3841       -1  0.020181\n",
       "12898      -1  0.015288\n",
       "15032      -1  0.066556\n",
       "36781      -1  0.059729\n",
       "9201       -1  0.238265\n",
       "...       ...       ...\n",
       "30258      -1  0.420816\n",
       "20563      -1  0.213795\n",
       "20275      -1  0.022015\n",
       "10121      -1  0.373025\n",
       "32191      -1  0.087773\n",
       "\n",
       "[8000 rows x 2 columns]"
      ]
     },
     "execution_count": 15,
     "metadata": {},
     "output_type": "execute_result"
    }
   ],
   "source": [
    "churn_data = y_test.assign(proba = pipeline.predict_proba(X_test)[:,1]).rename(columns={0: 'y_true'})\n",
    "churn_data"
   ]
  },
  {
   "cell_type": "markdown",
   "metadata": {},
   "source": [
    "Полученные данные будем использовать для оценки ожидаемого экономического эффекта от удержания оттока."
   ]
  },
  {
   "cell_type": "markdown",
   "metadata": {},
   "source": [
    "### 1\\. Простая экономическая модель"
   ]
  },
  {
   "cell_type": "markdown",
   "metadata": {},
   "source": [
    "Для начала будем считать, что среднее число активных пользователей, а также баланс классов не изменяются, т.е. каждый месяц приходит и уходит равное число пользователей.\n",
    "\n",
    "Формула для расчета ожидаемого ежемесячного экономического эффекта:\n",
    "\n",
    "**ECONOMIC IMPACT = CAMPAIGN PROFIT – CASUAL PROFIT**,\n",
    "\n",
    "где ECONOMIC IMPACT – экономический эффект, CAMPAIGN PROFIT – прибыль от кампании по удержанию оттока, CASUAL PROFIT – прибыль при неконтролируемом оттоке.\n",
    "\n",
    "**CASUAL PROFIT = (USERS – CHURN) $\\cdot$ INCOME**,\n",
    "\n",
    "где USERS – всего пользователей, CHURN – потеряно пользователей при неконтролируемом оттоке, INCOME – средний доход с одного пользователя.\n",
    "\n",
    "**CAMPAIGN PROFIT = (USERS – LOSS) $\\cdot$ INCOME – CAMPAIGN COST**,\n",
    "\n",
    "где LOSS – потеряно пользователей в ходе кампании, CAMPAIGN COST – стоимость кампании по удержанию оттока.\n",
    "\n",
    "**CAMPAIGN COST = USERS IN CAMP – RETAIN COST**,\n",
    "\n",
    "где USERS IN CAMP – пользователей, участвующих в кампании, RETAIN COST – средняя стоимость удержания одного пользователя.\n",
    "\n",
    "**LOSS = CHURN IN CAMP $\\cdot$ (1 – PROB) $\\cdot$ CHURN OUT CAMP**,\n",
    "\n",
    "где CHURN IN CAMP – число пользователей класса отток, участвующих в кампании, CHURN OUT CAMP – число пользователей класса отток, не участвующих в кампании, PROB – вероятность, с которой пользователь принимает предложение.\n",
    "\n",
    "Вероятность, с которой пользователь принимает предложение в ходе кампании, должно быть связана со стоимостью его удержания. Для моделирования этой взаимосвязи будем использовать функцию:\n",
    "\n",
    "$f(x) = \\dfrac{1}{1 + e^{-kx}}$\n",
    "\n",
    "При небольших затратах на кампанию вероятность принятия предложения растет медленно (поскольку выделенные на удержание оттока средства просто не позволяют сделать стоящее преложение), так же как и при чрезмерно высоких расходах (здесь останутся пользователи, которые уйдут независимо от качества предложения). Основной прирост вероятности происходит при средних затратах."
   ]
  },
  {
   "cell_type": "code",
   "execution_count": 16,
   "metadata": {},
   "outputs": [
    {
     "data": {
      "image/png": "[encoded data removed]",
      "text/plain": [
       "<Figure size 432x288 with 1 Axes>"
      ]
     },
     "metadata": {
      "needs_background": "light"
     },
     "output_type": "display_data"
    }
   ],
   "source": [
    "def norm(x, x_range):\n",
    "    ''' Нормирует x в интервале x_range       \n",
    "    '''\n",
    "    return  (x - x_range[0])*2 /(x_range[1] - x_range[0]) - 1\n",
    "\n",
    "def sigmoid(x, k=0.1):\n",
    "    ''' k регулирует наклон сигмоиды \n",
    "    '''\n",
    "    return 1 / (1 + np.exp(-x / k)) \n",
    "\n",
    "\n",
    "x = np.linspace(0,2,100)\n",
    "\n",
    "for k in (0.1,0.2,0.3):\n",
    "    plt.plot(x, sigmoid(norm(x, x_range=(x.min(), x.max())), k=k), label=k)\n",
    "plt.ylabel('Вероятность принятия предложения')\n",
    "plt.xlabel('Средняя стоимость удержания одного\\n пользователя (USD)')\n",
    "plt.legend(title='k');"
   ]
  },
  {
   "cell_type": "markdown",
   "metadata": {},
   "source": [
    "Параметр k определяет темп роста вероятности, с которой пользователь принимает предложение, при увеличении расходов на его удержание, введен, чтобы смоделировать несколько иcходов кампаний. "
   ]
  },
  {
   "cell_type": "code",
   "execution_count": 17,
   "metadata": {},
   "outputs": [],
   "source": [
    "def economic_impact(income_per_user, retain_cost, churn_top, agree_proba=None, cost_thr=None, k=0.1, \n",
    "                    churn_data=churn_data):\n",
    "    '''\n",
    "    Функция рассчитывает ожидаемый ежемесячный экономический эффект (на одного пользователя)\n",
    "     от кампании по удержанию оттока \n",
    "    \n",
    "    income_per_user - средний доход с одного пользователя\n",
    "    retain_cost - средняя стоимость удержания одного пользователя\n",
    "    churn_top - топ пользователей, участвующих в кампании\n",
    "    agree_proba - вероятность, с которой пользователь принимает предложение \n",
    "    cost_thr - пороговое значение затрат на удержание оттока, при котором вероятность, с которой\n",
    "     предложение будет принято стремится к 1\n",
    "    k - определяет темп роста вероятности, с которой пользователь принимает предложение, при увеличении\n",
    "     расходов на его удержание \n",
    "    \n",
    "    '''\n",
    "    \n",
    "    # Если верояность, с которой предложение будет принято, не задана, вычисляем по\n",
    "    # средней стоимости удержания одного пользователя\n",
    "    if not agree_proba:\n",
    "        agree_proba = sigmoid(norm(x=retain_cost, x_range=[0, cost_thr]), k=k)\n",
    "   \n",
    "    # Общее число пользователей\n",
    "    total_users = churn_data.shape[0]\n",
    "\n",
    "    # Пользователи, участвующие в кампании\n",
    "    campaign_users = churn_data.sort_values('proba', ascending=False)\\\n",
    "    .head(int(total_users * churn_top))\n",
    "\n",
    "    # Стоимость кампании по удержанию оттока\n",
    "    campaign_cost = campaign_users.shape[0] * retain_cost\n",
    "\n",
    "    # Число пользователей, которых не удалось удержать\n",
    "    wasted_users = campaign_users.query('y_true == 1').shape[0] * (1 - agree_proba)\n",
    "\n",
    "    # id потерянных в ходе кампании пользователей\n",
    "    wasted_users_id = campaign_users.query('y_true == 1').head(int(wasted_users)).index\n",
    "    \n",
    "    # id пользователей класса отток, не участвующих в кампании\n",
    "    churn_users_id = churn_data.loc[churn_data.index.difference(campaign_users.index),:]\\\n",
    "    .query('y_true == 1').index\n",
    " \n",
    "    # Общее число потерянных пользователей\n",
    "    churn_users = wasted_users + churn_users_id.shape[0]\n",
    "    \n",
    "    # id всех потерянных пользователей\n",
    "    churn_users_id = churn_users_id.append(wasted_users_id)\n",
    "\n",
    "    # Прибыль от кампании\n",
    "    campaign_profit = (total_users - churn_users) * income_per_user - campaign_cost\n",
    "\n",
    "    # Количество потерянных пользователей, если не проводить компанию \n",
    "    churn_users = churn_data.query('y_true == 1').shape[0]\n",
    "\n",
    "    # Прибыль, если не проводить кампанию\n",
    "    profit = (total_users - churn_users) * income_per_user\n",
    "\n",
    "    # Эффект от удержания оттока\n",
    "    economic_impact = campaign_profit - profit\n",
    "    \n",
    "    # Экономический эффект, нормированный на число пользователей, \n",
    "    # экономический эффект,\n",
    "    # id всех потерянных пользователей\n",
    "    return economic_impact / churn_data.shape[0], economic_impact, churn_users_id"
   ]
  },
  {
   "cell_type": "markdown",
   "metadata": {},
   "source": [
    "Для моделирования кампаний по удержанию оттока будем использовать следующие параметры:<br />\n",
    "1\\. Средний доход с одного пользователя - 10 USD.<br />\n",
    "2\\. Средняя стоимость удержания одного пользователя - не более 5 USD.<br />\n",
    "3\\. Средняя стоимость удержания одного пользователя, при которой вероятность принятия предложения стремится к 1 - 2 USD.<br />\n",
    "4\\. Темп роста вероятности, с которой пользователь принимает предложение, при увеличении расходов на его удержание - k = 0.1, 0.2, 0.3.<br />\n",
    "5\\. Число активных пользователей - 50 000 000 человек.<br />\n",
    "6\\. Топ пользователей для участия в кампании - параметр оптимизации. Поскольку функция не гладкая, используем дифференциальную эволюцию. "
   ]
  },
  {
   "cell_type": "code",
   "execution_count": 18,
   "metadata": {},
   "outputs": [],
   "source": [
    "n_users = 50e6\n",
    "income_per_user = 10\n",
    "cost_thr = 2"
   ]
  },
  {
   "cell_type": "code",
   "execution_count": 19,
   "metadata": {},
   "outputs": [],
   "source": [
    "k_range = [0.1, 0.2, 0.3]\n",
    "retain_cost_range = np.arange(0.1,5,0.1)\n",
    "opt_res = []\n",
    "\n",
    "for k in k_range:\n",
    "    for retain_cost in retain_cost_range:        \n",
    "        \n",
    "        def impact_func(churn_top):\n",
    "            ''' \n",
    "            Функция для оптимизации экономического эффекта по топу пользователей, \n",
    "            участвующих  в кампании\n",
    "            '''\n",
    "            return -economic_impact(income_per_user=income_per_user, retain_cost=retain_cost, \n",
    "                                    churn_top=churn_top, cost_thr=cost_thr, k=k)[0]          \n",
    "        \n",
    "        # Оптимизация топа пользователей, участвующих в кампании\n",
    "        opt_res.append((-optimize.differential_evolution(impact_func, bounds=((0,1), )).fun, k, retain_cost))"
   ]
  },
  {
   "cell_type": "code",
   "execution_count": 20,
   "metadata": {},
   "outputs": [
    {
     "data": {
      "image/png": "[encoded data removed]",
      "text/plain": [
       "<Figure size 422.075x360 with 1 Axes>"
      ]
     },
     "metadata": {
      "needs_background": "light"
     },
     "output_type": "display_data"
    }
   ],
   "source": [
    "sns.relplot(data=pd.DataFrame(opt_res, columns=['profit', 'k', 'retain_cost'])\\\n",
    "            .assign(profit = lambda x: x.profit*n_users), \n",
    "            x=\"retain_cost\", y=\"profit\", hue=\"k\", kind=\"line\", palette=\"tab10\")\n",
    "plt.ylabel(\"Экономический эффект (USD)\")\n",
    "plt.xlabel(\"Средняя стоимость удержания одного\\n пользователя (USD)\");"
   ]
  },
  {
   "cell_type": "markdown",
   "metadata": {},
   "source": [
    "Экономический эффект от удержания оттока зависит от расходов на кампанию и эффективности самой кампании (учитывается коэффициентом k на графике). При среднем числе активных пользователей 50 000 000 человек и среднем месячном доходе с одного пользователя 10 USD ожидаемый экономический эффект может достигать порядка 5 000 000 USD. "
   ]
  },
  {
   "cell_type": "markdown",
   "metadata": {},
   "source": [
    "### 2\\. Модель, учитывающая динамику оттока пользователей"
   ]
  },
  {
   "cell_type": "markdown",
   "metadata": {},
   "source": [
    "Теперь проведем численный эксперимент в тестовой группе из 8 000 человек. Кампания продолжается 12 итераций. На каждой итерации будем оптимизировать топ пользователей для участия в кампании. Будем считать, что за одну итерацию (условно месяц) уходят пользователи, которых не удалось удержать. Таким образом, теряем сразу всех, кого не удалось правильно классифицировать, и часть пользователей, участвующих в кампании, затем каждую итерацию еще какую-то часть пользователей класса отток. "
   ]
  },
  {
   "cell_type": "code",
   "execution_count": 21,
   "metadata": {},
   "outputs": [],
   "source": [
    "def economic_impact_(data=churn_data, time_period=12):\n",
    "    '''\n",
    "    Функция рассчитывает суммарный экономический эффект от кампании по удержанию оттока в течении \n",
    "    заданного периода времени\n",
    "    \n",
    "    '''    \n",
    "    optimize_results, profit, churn_users_id = [], [], []\n",
    "\n",
    "    for period in range(time_period):\n",
    "        \n",
    "        # Отток пользователей\n",
    "        data = data.drop(churn_users_id, axis=0)\n",
    "\n",
    "        def impact_func(param):\n",
    "            ''' \n",
    "            Функция для оптимизации экономического эффекта по 2 параметрам:\n",
    "            * топу пользователей, участвующих  в кампании \n",
    "            * средней стоимости удержания одного пользователя\n",
    "            '''\n",
    "            return -economic_impact(income_per_user=income_per_user, retain_cost=param[1], churn_top=param[0], \n",
    "                                    cost_thr=cost_thr, churn_data=data)[1]    \n",
    "\n",
    "        # Граничные условия\n",
    "        bounds = ((0,1), (0,2), )      \n",
    "\n",
    "        # Оптимизация\n",
    "        optimize_results.append(optimize.differential_evolution(impact_func, bounds=bounds))\n",
    "\n",
    "        # Эффект от кампании\n",
    "        profit.append(sum(profit) + np.abs(optimize_results[period].fun))\n",
    "\n",
    "        # id потерянных пользователей\n",
    "        churn_users_id = economic_impact(income_per_user=income_per_user, \n",
    "                                         retain_cost=optimize_results[period].x[1], \n",
    "                                         churn_top=optimize_results[period].x[0], \n",
    "                                         cost_thr=cost_thr, \n",
    "                                         churn_data=data)[2]        \n",
    "\n",
    "    return profit"
   ]
  },
  {
   "cell_type": "code",
   "execution_count": 22,
   "metadata": {},
   "outputs": [
    {
     "data": {
      "image/png": "[encoded data removed]",
      "text/plain": [
       "<Figure size 432x288 with 1 Axes>"
      ]
     },
     "metadata": {
      "needs_background": "light"
     },
     "output_type": "display_data"
    }
   ],
   "source": [
    "plt.plot(range(12), economic_impact_())\n",
    "plt.xlabel('Период времени')\n",
    "plt.ylabel('Суммарный экономический\\n эффект (USD)');"
   ]
  },
  {
   "cell_type": "markdown",
   "metadata": {},
   "source": [
    "Ожидаемый экономический эффект за расчетный период (условно 12 месяцев) в группе из 8 000 человек (при условии, что исходное число пользователей, склонных к оттоку, остается постоянным) может составить порядка 1 400 000 USD."
   ]
  },
  {
   "cell_type": "markdown",
   "metadata": {},
   "source": [
    "## 6\\. Рекомендации по внедрению в продакшн"
   ]
  },
  {
   "cell_type": "markdown",
   "metadata": {},
   "source": [
    "### 1\\. A/B тест\n",
    "\n",
    "Следует выделить 2 небольшие группы пользователей, в одной из которых вести кампании по удержанию оттока, во второй - не контролировать отток пользователей. Модель тестировать в течении, например, года, после чего оценить экономический эффект. В процессе тестирования стоит провести опросы и онлайн-тестирование с целью получения новых признаков, которые помогут улучшить качество модели."
   ]
  },
  {
   "cell_type": "markdown",
   "metadata": {},
   "source": [
    "### 2\\. Оценка экономического эффекта от улучшения качества модели\n",
    "\n",
    "Проведем моделирование кампаний, в которых качество модели выше на 0.5 и 1\\%. Для этого будем удалять из результатов классификации пользователей, на которых ошибка классификации наибольшая, при этом каждый раз будем пересчитать ROC-AUC."
   ]
  },
  {
   "cell_type": "code",
   "execution_count": 23,
   "metadata": {},
   "outputs": [],
   "source": [
    "def churn_set(boost, data=churn_data):\n",
    "    '''\n",
    "    Функция возвращает сабсэт с результатами классификация, выбрасывая объекты класса \n",
    "    не отток (-1) с высокой вероятностью оттока\n",
    "    boost - процент, на который должна вырасти площадь под ROC-кривой\n",
    "    \n",
    "    '''\n",
    "    \n",
    "    data_ = data.copy()\n",
    "    score = []\n",
    "    churn_index = data.sort_values('proba', ascending=False).query('y_true == -1').index\n",
    "    \n",
    "    for i in range(400):\n",
    "        data_ = data_.drop(churn_index[i], axis=0)\n",
    "        score.append(metrics.roc_auc_score(data_.y_true, data_.proba))\n",
    "\n",
    "    score_boost = score / score[0]\n",
    "   \n",
    "    return data.drop(churn_index[: np.sum(score_boost < boost*0.01 + 1)], axis=0)"
   ]
  },
  {
   "cell_type": "markdown",
   "metadata": {},
   "source": [
    "Расчеты повторяем на 10 случайных выборках из 4000 пользователей. "
   ]
  },
  {
   "cell_type": "code",
   "execution_count": 24,
   "metadata": {},
   "outputs": [],
   "source": [
    "n_samples = 4000\n",
    "\n",
    "np.random.seed(0)\n",
    "seeds = np.random.randint(1000, size=(10,3))\n",
    "\n",
    "profit = [(economic_impact_(churn_data.sample(n_samples, random_state=seed[0]))[-1],\n",
    "           economic_impact_(churn_set(0.5, churn_data.sample(n_samples, random_state=seed[1])))[-1],\n",
    "           economic_impact_(churn_set(1.0, churn_data.sample(n_samples, random_state=seed[2])))[-1]) \\\n",
    "          for seed in seeds]"
   ]
  },
  {
   "cell_type": "code",
   "execution_count": 25,
   "metadata": {},
   "outputs": [
    {
     "data": {
      "image/png": "[encoded data removed]",
      "text/plain": [
       "<Figure size 432x288 with 1 Axes>"
      ]
     },
     "metadata": {
      "needs_background": "light"
     },
     "output_type": "display_data"
    }
   ],
   "source": [
    "sns.boxplot(x=\"variable\", y=\"value\", \n",
    "            data=pd.DataFrame(profit, columns=['baseline', '0.5', '1.0'])\\\n",
    "            .melt(value_vars=['baseline', '0.5', '1.0']))\n",
    "plt.xlabel('Повышение качества модели (%)')\n",
    "plt.ylabel('Суммарный экономический эффект (USD)');"
   ]
  },
  {
   "cell_type": "markdown",
   "metadata": {},
   "source": [
    "Точечные оценки разности медиан:"
   ]
  },
  {
   "cell_type": "code",
   "execution_count": 26,
   "metadata": {},
   "outputs": [
    {
     "name": "stdout",
     "output_type": "stream",
     "text": [
      "0.5% ROC-AUC raise: 170738.47 USD\n",
      "1.0% ROC-AUC raise: 224118.58 USD\n"
     ]
    }
   ],
   "source": [
    "print('0.5% ROC-AUC raise: {:.2f} USD\\n1.0% ROC-AUC raise: {:.2f} USD'.format(\n",
    "    np.median(np.array(profit)[:,1]) - np.median(np.array(profit)[:,0]),\n",
    "    np.median(np.array(profit)[:,2]) - np.median(np.array(profit)[:,0])))"
   ]
  },
  {
   "cell_type": "markdown",
   "metadata": {},
   "source": [
    "Интервальные оценки разности медиан:"
   ]
  },
  {
   "cell_type": "code",
   "execution_count": 27,
   "metadata": {},
   "outputs": [
    {
     "name": "stdout",
     "output_type": "stream",
     "text": [
      "0.5% ROC-AUC raise: [  7853.82 230007.04] USD\n",
      "1.0% ROC-AUC raise: [ 19786.57 342398.51] USD\n"
     ]
    }
   ],
   "source": [
    "def get_bootstrap_samples(data, n_samples=1000):\n",
    "    ''' Возвращает бутстрэп псевдо-выборки\n",
    "    '''\n",
    "    np.random.seed(0)\n",
    "    indices = np.random.randint(0, len(data), (n_samples, len(data)))\n",
    "    samples = data[indices]\n",
    "    return samples\n",
    "\n",
    "def stat_intervals(stat, alpha=0.05):\n",
    "    ''' Возвращает доверительный интервал\n",
    "    '''\n",
    "    boundaries = np.percentile(stat, [100 * alpha / 2., 100 * (1 - alpha / 2.)])\n",
    "    return np.round(boundaries, 2)\n",
    "\n",
    "# Медианы\n",
    "baseline_scores = list(map(np.median, get_bootstrap_samples(np.array(profit)[:,0], 1000)))\n",
    "raised05_scores = list(map(np.median, get_bootstrap_samples(np.array(profit)[:,1], 1000)))\n",
    "raised10_scores = list(map(np.median, get_bootstrap_samples(np.array(profit)[:,2], 1000)))\n",
    "\n",
    "# Разница медиан\n",
    "raised05_delta_scores = list(map(lambda x: x[1] - x[0], zip(baseline_scores, raised05_scores)))\n",
    "raised10_delta_scores = list(map(lambda x: x[1] - x[0], zip(baseline_scores, raised10_scores)))\n",
    "\n",
    "print('0.5% ROC-AUC raise: {} USD\\n1.0% ROC-AUC raise: {} USD'.format(\n",
    "    stat_intervals(raised05_delta_scores), stat_intervals(raised10_delta_scores)))"
   ]
  },
  {
   "cell_type": "markdown",
   "metadata": {},
   "source": [
    "При повышение качества модели классификации на 0.5 и 1\\% суммарный экономический эффект в группе из 4 000 пользователей в среднем увеличивается на 170738 и 224118 USD соответственно. 95\\%-ные доверительные интервалы на разницу с baseline-решением не содержать нуль, следовательно полученные результаты можно признать статистически значимыми, т.е. затраты на кампанию по улучшению качества модели для прогнозирования оттока пользователей оправданы."
   ]
  },
  {
   "cell_type": "markdown",
   "metadata": {},
   "source": [
    "## 7\\. Итог работы\n",
    "\n",
    "Построена модель для прогнозирования оттока клиентов оператора мобильной связи. Оценка площади под ROC-кривой на тестовых данных составила примерно 0.728. \n",
    "\n",
    "При среднем числе активных пользователей 50 000 000 человек и среднем месячном доходе с одного пользователя 10 USD ожидаемый экономический эффект может достигать порядка 5 000 000 USD. \n",
    "\n",
    "Для проверки адекватности модели стоит провести A/B тест, в ходе которого организовать опросы и онлайн-тестирование, которые, возможно, помогут улучшить качество модели, повысить экономический эффект от удержания оттока и окупить связанные с этим затраты."
   ]
  }
 ],
 "metadata": {
  "kernelspec": {
   "display_name": "Python 3",
   "language": "python",
   "name": "python3"
  },
  "language_info": {
   "codemirror_mode": {
    "name": "ipython",
    "version": 3
   },
   "file_extension": ".py",
   "mimetype": "text/x-python",
   "name": "python",
   "nbconvert_exporter": "python",
   "pygments_lexer": "ipython3",
   "version": "3.9.5"
  }
 },
 "nbformat": 4,
 "nbformat_minor": 1
}
